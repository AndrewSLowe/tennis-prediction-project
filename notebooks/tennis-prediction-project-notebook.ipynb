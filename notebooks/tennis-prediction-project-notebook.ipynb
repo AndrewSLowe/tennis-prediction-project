{
 "cells": [
  {
   "cell_type": "code",
   "execution_count": 1,
   "metadata": {},
   "outputs": [],
   "source": [
    "import numpy as np\n",
    "import pandas as pd\n",
    "from sklearn.model_selection import train_test_split\n",
    "import category_encoders as ce\n",
    "from sklearn.impute import SimpleImputer\n",
    "from sklearn.pipeline import make_pipeline\n",
    "from xgboost import XGBClassifier"
   ]
  },
  {
   "cell_type": "code",
   "execution_count": null,
   "metadata": {},
   "outputs": [],
   "source": [
    "df = pd.read_csv('tennis_final.csv')\n",
    "df = df.drop(columns='Winner')\n",
    "df1 = df.rename(columns={'Player A': 'Player_A', 'Player B':'Player_B', 'Player A bpFaced': 'Player_A_bpFaced',\n",
    "                         'Player B bpFaced': 'Player_B_bpFaced', 'Player A bpSaved':'Player_A_bpSaved', \n",
    "                        'Player B bpSaved':'Player_B_bpSaved', 'Winner2': 'Winner'})\n",
    "pd.set_option('display.max_columns', 500)"
   ]
  },
  {
   "cell_type": "code",
   "execution_count": 2,
   "metadata": {},
   "outputs": [
    {
     "name": "stdout",
     "output_type": "stream",
     "text": [
      "(168302, 55)\n"
     ]
    },
    {
     "data": {
      "text/html": [
       "<div>\n",
       "<style scoped>\n",
       "    .dataframe tbody tr th:only-of-type {\n",
       "        vertical-align: middle;\n",
       "    }\n",
       "\n",
       "    .dataframe tbody tr th {\n",
       "        vertical-align: top;\n",
       "    }\n",
       "\n",
       "    .dataframe thead th {\n",
       "        text-align: right;\n",
       "    }\n",
       "</style>\n",
       "<table border=\"1\" class=\"dataframe\">\n",
       "  <thead>\n",
       "    <tr style=\"text-align: right;\">\n",
       "      <th></th>\n",
       "      <th>Unnamed: 0</th>\n",
       "      <th>Unnamed: 0.1</th>\n",
       "      <th>Player_A</th>\n",
       "      <th>Player A 1stIn</th>\n",
       "      <th>Player A 1stWon</th>\n",
       "      <th>Player A 2ndwon</th>\n",
       "      <th>Player A Entry</th>\n",
       "      <th>Player A Hand</th>\n",
       "      <th>Player A Height</th>\n",
       "      <th>Player A ID</th>\n",
       "      <th>Player A Name</th>\n",
       "      <th>Player A SvGms</th>\n",
       "      <th>Player A ace</th>\n",
       "      <th>Player_A_bpFaced</th>\n",
       "      <th>Player_A_bpSaved</th>\n",
       "      <th>Player A df</th>\n",
       "      <th>Player A ioc</th>\n",
       "      <th>Player A points</th>\n",
       "      <th>Player A rank</th>\n",
       "      <th>Player A seed</th>\n",
       "      <th>Player A svpt</th>\n",
       "      <th>Player_B</th>\n",
       "      <th>Player B 1stIn</th>\n",
       "      <th>Player B 1stWon</th>\n",
       "      <th>Player B 2ndwon</th>\n",
       "      <th>Player B Entry</th>\n",
       "      <th>Player B Hand</th>\n",
       "      <th>Player B Height</th>\n",
       "      <th>Player B ID</th>\n",
       "      <th>Player B Name</th>\n",
       "      <th>Player B SvGms</th>\n",
       "      <th>Player B ace</th>\n",
       "      <th>Player_B_bpFaced</th>\n",
       "      <th>Player_B_bpSaved</th>\n",
       "      <th>Player B df</th>\n",
       "      <th>Player B ioc</th>\n",
       "      <th>Player B points</th>\n",
       "      <th>Player B rank</th>\n",
       "      <th>Player B seed</th>\n",
       "      <th>Player B svpt</th>\n",
       "      <th>best_of</th>\n",
       "      <th>draw_size</th>\n",
       "      <th>match_num</th>\n",
       "      <th>minutes</th>\n",
       "      <th>players</th>\n",
       "      <th>round</th>\n",
       "      <th>score</th>\n",
       "      <th>surface</th>\n",
       "      <th>tourney_date</th>\n",
       "      <th>tourney_id</th>\n",
       "      <th>tourney_level</th>\n",
       "      <th>tourney_name</th>\n",
       "      <th>winner_name</th>\n",
       "      <th>year</th>\n",
       "      <th>Winner</th>\n",
       "    </tr>\n",
       "  </thead>\n",
       "  <tbody>\n",
       "    <tr>\n",
       "      <th>0</th>\n",
       "      <td>64970</td>\n",
       "      <td>915</td>\n",
       "      <td>Sebastien Grosjean</td>\n",
       "      <td>48.0</td>\n",
       "      <td>32.0</td>\n",
       "      <td>25.0</td>\n",
       "      <td>NaN</td>\n",
       "      <td>R</td>\n",
       "      <td>175.0</td>\n",
       "      <td>103206</td>\n",
       "      <td>27.81</td>\n",
       "      <td>16.0</td>\n",
       "      <td>6.0</td>\n",
       "      <td>18.0</td>\n",
       "      <td>11.0</td>\n",
       "      <td>2.0</td>\n",
       "      <td>FRA</td>\n",
       "      <td>1450.0</td>\n",
       "      <td>20.0</td>\n",
       "      <td>19.0</td>\n",
       "      <td>106.0</td>\n",
       "      <td>David Ferrer</td>\n",
       "      <td>80.0</td>\n",
       "      <td>50.0</td>\n",
       "      <td>16.0</td>\n",
       "      <td>NaN</td>\n",
       "      <td>R</td>\n",
       "      <td>175.0</td>\n",
       "      <td>103970</td>\n",
       "      <td>23.96</td>\n",
       "      <td>16.0</td>\n",
       "      <td>1.0</td>\n",
       "      <td>11.0</td>\n",
       "      <td>5.0</td>\n",
       "      <td>5.0</td>\n",
       "      <td>ESP</td>\n",
       "      <td>1700.0</td>\n",
       "      <td>11.0</td>\n",
       "      <td>11.0</td>\n",
       "      <td>116.0</td>\n",
       "      <td>3</td>\n",
       "      <td>NaN</td>\n",
       "      <td>71</td>\n",
       "      <td>168.0</td>\n",
       "      <td>Player 2</td>\n",
       "      <td>R32</td>\n",
       "      <td>4-6 7-5 6-4</td>\n",
       "      <td>Hard</td>\n",
       "      <td>20060320</td>\n",
       "      <td>2006-403</td>\n",
       "      <td>M</td>\n",
       "      <td>Miami Masters</td>\n",
       "      <td>David Ferrer</td>\n",
       "      <td>2006</td>\n",
       "      <td>Player B</td>\n",
       "    </tr>\n",
       "    <tr>\n",
       "      <th>1</th>\n",
       "      <td>89521</td>\n",
       "      <td>1453</td>\n",
       "      <td>Jaime Fillol</td>\n",
       "      <td>NaN</td>\n",
       "      <td>NaN</td>\n",
       "      <td>NaN</td>\n",
       "      <td>NaN</td>\n",
       "      <td>R</td>\n",
       "      <td>180.0</td>\n",
       "      <td>100115</td>\n",
       "      <td>26.95</td>\n",
       "      <td>NaN</td>\n",
       "      <td>NaN</td>\n",
       "      <td>NaN</td>\n",
       "      <td>NaN</td>\n",
       "      <td>NaN</td>\n",
       "      <td>CHI</td>\n",
       "      <td>NaN</td>\n",
       "      <td>NaN</td>\n",
       "      <td>NaN</td>\n",
       "      <td>NaN</td>\n",
       "      <td>Robert Lutz</td>\n",
       "      <td>NaN</td>\n",
       "      <td>NaN</td>\n",
       "      <td>NaN</td>\n",
       "      <td>NaN</td>\n",
       "      <td>R</td>\n",
       "      <td>180.0</td>\n",
       "      <td>100144</td>\n",
       "      <td>25.71</td>\n",
       "      <td>NaN</td>\n",
       "      <td>NaN</td>\n",
       "      <td>NaN</td>\n",
       "      <td>NaN</td>\n",
       "      <td>NaN</td>\n",
       "      <td>USA</td>\n",
       "      <td>NaN</td>\n",
       "      <td>NaN</td>\n",
       "      <td>14.0</td>\n",
       "      <td>NaN</td>\n",
       "      <td>3</td>\n",
       "      <td>NaN</td>\n",
       "      <td>15</td>\n",
       "      <td>NaN</td>\n",
       "      <td>Player 1</td>\n",
       "      <td>R32</td>\n",
       "      <td>7-6 4-6 6-2</td>\n",
       "      <td>Hard</td>\n",
       "      <td>19730514</td>\n",
       "      <td>1973-413</td>\n",
       "      <td>A</td>\n",
       "      <td>Las Vegas</td>\n",
       "      <td>Jaime Fillol</td>\n",
       "      <td>1973</td>\n",
       "      <td>Player A</td>\n",
       "    </tr>\n",
       "    <tr>\n",
       "      <th>2</th>\n",
       "      <td>72519</td>\n",
       "      <td>317</td>\n",
       "      <td>Frederico Gil</td>\n",
       "      <td>45.0</td>\n",
       "      <td>31.0</td>\n",
       "      <td>18.0</td>\n",
       "      <td>NaN</td>\n",
       "      <td>R</td>\n",
       "      <td>178.0</td>\n",
       "      <td>104523</td>\n",
       "      <td>25.86</td>\n",
       "      <td>13.0</td>\n",
       "      <td>5.0</td>\n",
       "      <td>8.0</td>\n",
       "      <td>4.0</td>\n",
       "      <td>3.0</td>\n",
       "      <td>POR</td>\n",
       "      <td>606.0</td>\n",
       "      <td>80.0</td>\n",
       "      <td>NaN</td>\n",
       "      <td>81.0</td>\n",
       "      <td>Tommy Robredo</td>\n",
       "      <td>49.0</td>\n",
       "      <td>32.0</td>\n",
       "      <td>14.0</td>\n",
       "      <td>NaN</td>\n",
       "      <td>R</td>\n",
       "      <td>180.0</td>\n",
       "      <td>103990</td>\n",
       "      <td>28.75</td>\n",
       "      <td>14.0</td>\n",
       "      <td>5.0</td>\n",
       "      <td>9.0</td>\n",
       "      <td>5.0</td>\n",
       "      <td>4.0</td>\n",
       "      <td>ESP</td>\n",
       "      <td>1060.0</td>\n",
       "      <td>40.0</td>\n",
       "      <td>6.0</td>\n",
       "      <td>73.0</td>\n",
       "      <td>3</td>\n",
       "      <td>NaN</td>\n",
       "      <td>13</td>\n",
       "      <td>112.0</td>\n",
       "      <td>Player 2</td>\n",
       "      <td>R32</td>\n",
       "      <td>2-6 6-3 6-4</td>\n",
       "      <td>Clay</td>\n",
       "      <td>20110131</td>\n",
       "      <td>2011-505</td>\n",
       "      <td>A</td>\n",
       "      <td>Santiago</td>\n",
       "      <td>Tommy Robredo</td>\n",
       "      <td>2011</td>\n",
       "      <td>Player B</td>\n",
       "    </tr>\n",
       "    <tr>\n",
       "      <th>3</th>\n",
       "      <td>114370</td>\n",
       "      <td>2112</td>\n",
       "      <td>Tim Wilkison</td>\n",
       "      <td>NaN</td>\n",
       "      <td>NaN</td>\n",
       "      <td>NaN</td>\n",
       "      <td>NaN</td>\n",
       "      <td>L</td>\n",
       "      <td>180.0</td>\n",
       "      <td>100631</td>\n",
       "      <td>26.72</td>\n",
       "      <td>NaN</td>\n",
       "      <td>NaN</td>\n",
       "      <td>NaN</td>\n",
       "      <td>NaN</td>\n",
       "      <td>NaN</td>\n",
       "      <td>USA</td>\n",
       "      <td>NaN</td>\n",
       "      <td>28.0</td>\n",
       "      <td>13.0</td>\n",
       "      <td>NaN</td>\n",
       "      <td>Vijay Amritraj</td>\n",
       "      <td>NaN</td>\n",
       "      <td>NaN</td>\n",
       "      <td>NaN</td>\n",
       "      <td>NaN</td>\n",
       "      <td>R</td>\n",
       "      <td>193.0</td>\n",
       "      <td>100321</td>\n",
       "      <td>32.66</td>\n",
       "      <td>NaN</td>\n",
       "      <td>NaN</td>\n",
       "      <td>NaN</td>\n",
       "      <td>NaN</td>\n",
       "      <td>NaN</td>\n",
       "      <td>IND</td>\n",
       "      <td>NaN</td>\n",
       "      <td>84.0</td>\n",
       "      <td>NaN</td>\n",
       "      <td>NaN</td>\n",
       "      <td>3</td>\n",
       "      <td>NaN</td>\n",
       "      <td>30</td>\n",
       "      <td>NaN</td>\n",
       "      <td>Player 1</td>\n",
       "      <td>R32</td>\n",
       "      <td>6-7 2-1 RET</td>\n",
       "      <td>Hard</td>\n",
       "      <td>19860811</td>\n",
       "      <td>1986-421</td>\n",
       "      <td>M</td>\n",
       "      <td>Montreal / Toronto</td>\n",
       "      <td>Tim Wilkison</td>\n",
       "      <td>1986</td>\n",
       "      <td>Player A</td>\n",
       "    </tr>\n",
       "    <tr>\n",
       "      <th>4</th>\n",
       "      <td>40996</td>\n",
       "      <td>2575</td>\n",
       "      <td>Derrick Rostagno</td>\n",
       "      <td>51.0</td>\n",
       "      <td>32.0</td>\n",
       "      <td>8.0</td>\n",
       "      <td>NaN</td>\n",
       "      <td>R</td>\n",
       "      <td>185.0</td>\n",
       "      <td>101196</td>\n",
       "      <td>26.77</td>\n",
       "      <td>9.0</td>\n",
       "      <td>4.0</td>\n",
       "      <td>4.0</td>\n",
       "      <td>2.0</td>\n",
       "      <td>2.0</td>\n",
       "      <td>USA</td>\n",
       "      <td>1057.0</td>\n",
       "      <td>27.0</td>\n",
       "      <td>5.0</td>\n",
       "      <td>73.0</td>\n",
       "      <td>Richey Reneberg</td>\n",
       "      <td>35.0</td>\n",
       "      <td>29.0</td>\n",
       "      <td>14.0</td>\n",
       "      <td>NaN</td>\n",
       "      <td>R</td>\n",
       "      <td>180.0</td>\n",
       "      <td>101191</td>\n",
       "      <td>26.83</td>\n",
       "      <td>10.0</td>\n",
       "      <td>1.0</td>\n",
       "      <td>0.0</td>\n",
       "      <td>0.0</td>\n",
       "      <td>0.0</td>\n",
       "      <td>USA</td>\n",
       "      <td>520.0</td>\n",
       "      <td>69.0</td>\n",
       "      <td>NaN</td>\n",
       "      <td>52.0</td>\n",
       "      <td>3</td>\n",
       "      <td>NaN</td>\n",
       "      <td>21</td>\n",
       "      <td>75.0</td>\n",
       "      <td>Player 2</td>\n",
       "      <td>R16</td>\n",
       "      <td>6-1 7-6(2)</td>\n",
       "      <td>Hard</td>\n",
       "      <td>19920803</td>\n",
       "      <td>1992-423</td>\n",
       "      <td>A</td>\n",
       "      <td>Los Angeles</td>\n",
       "      <td>Richey Reneberg</td>\n",
       "      <td>1992</td>\n",
       "      <td>Player B</td>\n",
       "    </tr>\n",
       "  </tbody>\n",
       "</table>\n",
       "</div>"
      ],
      "text/plain": [
       "   Unnamed: 0  Unnamed: 0.1            Player_A  Player A 1stIn  \\\n",
       "0       64970           915  Sebastien Grosjean            48.0   \n",
       "1       89521          1453        Jaime Fillol             NaN   \n",
       "2       72519           317       Frederico Gil            45.0   \n",
       "3      114370          2112        Tim Wilkison             NaN   \n",
       "4       40996          2575    Derrick Rostagno            51.0   \n",
       "\n",
       "   Player A 1stWon  Player A 2ndwon Player A Entry Player A Hand  \\\n",
       "0             32.0             25.0            NaN             R   \n",
       "1              NaN              NaN            NaN             R   \n",
       "2             31.0             18.0            NaN             R   \n",
       "3              NaN              NaN            NaN             L   \n",
       "4             32.0              8.0            NaN             R   \n",
       "\n",
       "   Player A Height  Player A ID  Player A Name  Player A SvGms  Player A ace  \\\n",
       "0            175.0       103206          27.81            16.0           6.0   \n",
       "1            180.0       100115          26.95             NaN           NaN   \n",
       "2            178.0       104523          25.86            13.0           5.0   \n",
       "3            180.0       100631          26.72             NaN           NaN   \n",
       "4            185.0       101196          26.77             9.0           4.0   \n",
       "\n",
       "   Player_A_bpFaced  Player_A_bpSaved  Player A df Player A ioc  \\\n",
       "0              18.0              11.0          2.0          FRA   \n",
       "1               NaN               NaN          NaN          CHI   \n",
       "2               8.0               4.0          3.0          POR   \n",
       "3               NaN               NaN          NaN          USA   \n",
       "4               4.0               2.0          2.0          USA   \n",
       "\n",
       "   Player A points  Player A rank  Player A seed  Player A svpt  \\\n",
       "0           1450.0           20.0           19.0          106.0   \n",
       "1              NaN            NaN            NaN            NaN   \n",
       "2            606.0           80.0            NaN           81.0   \n",
       "3              NaN           28.0           13.0            NaN   \n",
       "4           1057.0           27.0            5.0           73.0   \n",
       "\n",
       "          Player_B  Player B 1stIn  Player B 1stWon  Player B 2ndwon  \\\n",
       "0     David Ferrer            80.0             50.0             16.0   \n",
       "1      Robert Lutz             NaN              NaN              NaN   \n",
       "2    Tommy Robredo            49.0             32.0             14.0   \n",
       "3   Vijay Amritraj             NaN              NaN              NaN   \n",
       "4  Richey Reneberg            35.0             29.0             14.0   \n",
       "\n",
       "  Player B Entry Player B Hand  Player B Height  Player B ID  Player B Name  \\\n",
       "0            NaN             R            175.0       103970          23.96   \n",
       "1            NaN             R            180.0       100144          25.71   \n",
       "2            NaN             R            180.0       103990          28.75   \n",
       "3            NaN             R            193.0       100321          32.66   \n",
       "4            NaN             R            180.0       101191          26.83   \n",
       "\n",
       "   Player B SvGms  Player B ace  Player_B_bpFaced  Player_B_bpSaved  \\\n",
       "0            16.0           1.0              11.0               5.0   \n",
       "1             NaN           NaN               NaN               NaN   \n",
       "2            14.0           5.0               9.0               5.0   \n",
       "3             NaN           NaN               NaN               NaN   \n",
       "4            10.0           1.0               0.0               0.0   \n",
       "\n",
       "   Player B df Player B ioc  Player B points  Player B rank  Player B seed  \\\n",
       "0          5.0          ESP           1700.0           11.0           11.0   \n",
       "1          NaN          USA              NaN            NaN           14.0   \n",
       "2          4.0          ESP           1060.0           40.0            6.0   \n",
       "3          NaN          IND              NaN           84.0            NaN   \n",
       "4          0.0          USA            520.0           69.0            NaN   \n",
       "\n",
       "   Player B svpt  best_of  draw_size  match_num  minutes   players round  \\\n",
       "0          116.0        3        NaN         71    168.0  Player 2   R32   \n",
       "1            NaN        3        NaN         15      NaN  Player 1   R32   \n",
       "2           73.0        3        NaN         13    112.0  Player 2   R32   \n",
       "3            NaN        3        NaN         30      NaN  Player 1   R32   \n",
       "4           52.0        3        NaN         21     75.0  Player 2   R16   \n",
       "\n",
       "         score surface  tourney_date tourney_id tourney_level  \\\n",
       "0  4-6 7-5 6-4    Hard      20060320   2006-403             M   \n",
       "1  7-6 4-6 6-2    Hard      19730514   1973-413             A   \n",
       "2  2-6 6-3 6-4    Clay      20110131   2011-505             A   \n",
       "3  6-7 2-1 RET    Hard      19860811   1986-421             M   \n",
       "4   6-1 7-6(2)    Hard      19920803   1992-423             A   \n",
       "\n",
       "         tourney_name      winner_name  year    Winner  \n",
       "0       Miami Masters     David Ferrer  2006  Player B  \n",
       "1           Las Vegas     Jaime Fillol  1973  Player A  \n",
       "2            Santiago    Tommy Robredo  2011  Player B  \n",
       "3  Montreal / Toronto     Tim Wilkison  1986  Player A  \n",
       "4         Los Angeles  Richey Reneberg  1992  Player B  "
      ]
     },
     "execution_count": 2,
     "metadata": {},
     "output_type": "execute_result"
    }
   ],
   "source": [
    "print(df1.shape)\n",
    "df1.head()"
   ]
  },
  {
   "cell_type": "markdown",
   "metadata": {},
   "source": [
    "## Train/test/val split with all of the features:"
   ]
  },
  {
   "cell_type": "code",
   "execution_count": 8,
   "metadata": {},
   "outputs": [
    {
     "name": "stdout",
     "output_type": "stream",
     "text": [
      "Requirement already satisfied: category_encoders in /Users/andrewlowe/opt/anaconda3/lib/python3.7/site-packages (2.2.2)\n",
      "Requirement already satisfied: scipy>=1.0.0 in /Users/andrewlowe/opt/anaconda3/lib/python3.7/site-packages (from category_encoders) (1.4.1)\n",
      "Requirement already satisfied: scikit-learn>=0.20.0 in /Users/andrewlowe/opt/anaconda3/lib/python3.7/site-packages (from category_encoders) (0.22.1)\n",
      "Requirement already satisfied: statsmodels>=0.9.0 in /Users/andrewlowe/opt/anaconda3/lib/python3.7/site-packages (from category_encoders) (0.11.0)\n",
      "Requirement already satisfied: numpy>=1.14.0 in /Users/andrewlowe/opt/anaconda3/lib/python3.7/site-packages (from category_encoders) (1.18.1)\n",
      "Requirement already satisfied: pandas>=0.21.1 in /Users/andrewlowe/opt/anaconda3/lib/python3.7/site-packages (from category_encoders) (1.0.3)\n",
      "Requirement already satisfied: patsy>=0.5.1 in /Users/andrewlowe/opt/anaconda3/lib/python3.7/site-packages (from category_encoders) (0.5.1)\n",
      "Requirement already satisfied: joblib>=0.11 in /Users/andrewlowe/opt/anaconda3/lib/python3.7/site-packages (from scikit-learn>=0.20.0->category_encoders) (0.14.1)\n",
      "Requirement already satisfied: python-dateutil>=2.6.1 in /Users/andrewlowe/opt/anaconda3/lib/python3.7/site-packages (from pandas>=0.21.1->category_encoders) (2.8.1)\n",
      "Requirement already satisfied: pytz>=2017.2 in /Users/andrewlowe/opt/anaconda3/lib/python3.7/site-packages (from pandas>=0.21.1->category_encoders) (2019.3)\n",
      "Requirement already satisfied: six in /Users/andrewlowe/opt/anaconda3/lib/python3.7/site-packages (from patsy>=0.5.1->category_encoders) (1.14.0)\n",
      "\u001b[31mERROR: Could not find a version that satisfies the requirement py-xgboost (from versions: none)\u001b[0m\n",
      "\u001b[31mERROR: No matching distribution found for py-xgboost\u001b[0m\n"
     ]
    }
   ],
   "source": [
    "! pip install category_encoders\n",
    "! pip install py-xgboost"
   ]
  },
  {
   "cell_type": "code",
   "execution_count": 9,
   "metadata": {},
   "outputs": [
    {
     "name": "stdout",
     "output_type": "stream",
     "text": [
      "X_train shape (128302, 54)\n",
      "y_train shape (128302,)\n",
      "X_val shape (20000, 54)\n",
      "y_val shape (20000,)\n",
      "X_test shape (20000, 54)\n",
      "y_test shape (20000,)\n"
     ]
    }
   ],
   "source": [
    "X = df1.drop(columns='Winner')\n",
    "y = df1['Winner']\n",
    "\n",
    "X_trainval, X_test, y_trainval, y_test = train_test_split(\n",
    "    X, y, test_size=20000, random_state=42)\n",
    "\n",
    "X_train, X_val, y_train, y_val = train_test_split(\n",
    "    X_trainval, y_trainval, test_size=20000, \n",
    "    random_state=42)\n",
    "\n",
    "print('X_train shape', X_train.shape)\n",
    "print('y_train shape', y_train.shape)\n",
    "print('X_val shape', X_val.shape)\n",
    "print('y_val shape', y_val.shape)\n",
    "print('X_test shape', X_test.shape)\n",
    "print('y_test shape', y_test.shape)"
   ]
  },
  {
   "cell_type": "markdown",
   "metadata": {},
   "source": [
    "## Wrangle the data: \n",
    "###### In this case I'm really just dropping columns that leak."
   ]
  },
  {
   "cell_type": "code",
   "execution_count": null,
   "metadata": {},
   "outputs": [],
   "source": [
    "def wrangle(X):\n",
    "    X = X.copy()\n",
    "    \n",
    "    #Drop the leaking columns.\n",
    "    X = X.drop(columns=['winner_name', 'Unnamed: 0', 'Unnamed: 0.1', 'winner_name', 'players', 'tourney_name', \n",
    "                       'score', 'minutes', 'tourney_date'])\n",
    "    \n",
    "    return X\n",
    "\n",
    "X_train = wrangle(X_train)\n",
    "X_val   = wrangle(X_val)\n",
    "X_test  = wrangle(X_test)\n",
    "\n",
    "print('X_train shape', X_train.shape)\n",
    "print('X_val shape', X_val.shape)\n",
    "print('X_test shape', X_test.shape)"
   ]
  },
  {
   "cell_type": "markdown",
   "metadata": {},
   "source": [
    "## Training my model:\n",
    "###### I tried several model types but got the best accuracy score with XGBoost"
   ]
  },
  {
   "cell_type": "code",
   "execution_count": null,
   "metadata": {},
   "outputs": [],
   "source": [
    "pipeline = make_pipeline(\n",
    "    ce.OrdinalEncoder(), \n",
    "    SimpleImputer(strategy='median'),\n",
    "    XGBClassifier(n_estimators=100, n_jobs=-1)\n",
    ")\n",
    "\n",
    "pipeline.fit(X_train, y_train)"
   ]
  },
  {
   "cell_type": "code",
   "execution_count": null,
   "metadata": {},
   "outputs": [],
   "source": [
    "from sklearn.metrics import accuracy_score\n",
    "y_pred = pipeline.predict(X_train)\n",
    "\n",
    "print('Training Accuracy', accuracy_score(y_train, y_pred))"
   ]
  },
  {
   "cell_type": "code",
   "execution_count": null,
   "metadata": {},
   "outputs": [],
   "source": [
    "y_pred = pipeline.predict(X_val)\n",
    "\n",
    "print('Validation Accuracy', accuracy_score(y_val, y_pred))"
   ]
  },
  {
   "cell_type": "markdown",
   "metadata": {},
   "source": [
    "###### This is my test accuracy with all of the features. Much better than the baseline of 50%\n",
    "###### that we would guess without knowin anything about the two features."
   ]
  },
  {
   "cell_type": "code",
   "execution_count": null,
   "metadata": {},
   "outputs": [],
   "source": [
    "y_pred = pipeline.predict(X_test)\n",
    "\n",
    "print('test Accuracy', accuracy_score(y_test, y_pred))"
   ]
  },
  {
   "cell_type": "markdown",
   "metadata": {},
   "source": [
    "###### Now I'm finding the permutation importances of my model to see which features most contribute to the \n",
    "###### accuracy, which have little to no effect, and which bring the accuracy down."
   ]
  },
  {
   "cell_type": "code",
   "execution_count": null,
   "metadata": {},
   "outputs": [],
   "source": [
    "transformers = make_pipeline(\n",
    "    ce.OrdinalEncoder(), \n",
    "    SimpleImputer(strategy='median')\n",
    ")\n",
    "\n",
    "X_train_transformed = transformers.fit_transform(X_train)\n",
    "X_val_transformed = transformers.transform(X_val)\n",
    "\n",
    "model = XGBClassifier(n_estimators=100, n_jobs=-1)\n",
    "model.fit(X_train_transformed, y_train)"
   ]
  },
  {
   "cell_type": "code",
   "execution_count": null,
   "metadata": {},
   "outputs": [],
   "source": [
    "import eli5\n",
    "from eli5.sklearn import PermutationImportance\n",
    "\n",
    "permuter = PermutationImportance(\n",
    "    model, \n",
    "    scoring='accuracy', \n",
    "    n_iter=2, \n",
    "    random_state=42\n",
    ")\n",
    "\n",
    "permuter.fit(X_val_transformed, y_val)"
   ]
  },
  {
   "cell_type": "code",
   "execution_count": null,
   "metadata": {},
   "outputs": [],
   "source": [
    "feature_names = X_val.columns.tolist()\n",
    "pd.Series(permuter.feature_importances_, feature_names).sort_values(ascending=False)"
   ]
  },
  {
   "cell_type": "markdown",
   "metadata": {},
   "source": [
    "## Permutation Importances:\n",
    "##### The top columns being those that most affect the accuracy of the model and the bottom being the ones the least effect or negatively effect the model's accuracy. "
   ]
  },
  {
   "cell_type": "code",
   "execution_count": null,
   "metadata": {},
   "outputs": [],
   "source": [
    "eli5.show_weights(\n",
    "    permuter, \n",
    "    top=None, # show permutation importances for all features\n",
    "    feature_names=feature_names\n",
    ")"
   ]
  },
  {
   "cell_type": "markdown",
   "metadata": {},
   "source": [
    "###### Based on the permutation importances and what I thought would be interesting variables to interact with, I just kept Player A, Player B, their bpFaced, and their bpSaved."
   ]
  },
  {
   "cell_type": "code",
   "execution_count": null,
   "metadata": {},
   "outputs": [],
   "source": [
    "X = df1[['Player_A', 'Player_B', 'Player_A_bpFaced', \n",
    "             'Player_B_bpFaced','Player_A_bpSaved', 'Player_B_bpSaved']]\n",
    "\n",
    "y = df1['Winner']\n",
    "\n",
    "X_trainval_fin, X_test_fin, y_trainval_fin, y_test_fin = train_test_split(\n",
    "    X, y, test_size=20000, random_state=42)\n",
    "\n",
    "X_train_fin, X_val_fin, y_train_fin, y_val_fin = train_test_split(\n",
    "    X_trainval_fin, y_trainval_fin, test_size=20000, \n",
    "    random_state=42)\n",
    "\n",
    "print('X_train shape', X_train_fin.shape)\n",
    "print('y_train shape', y_train_fin.shape)\n",
    "print('X_val shape', X_val_fin.shape)\n",
    "print('y_val shape', y_val_fin.shape)\n",
    "print('X_test shape', X_test_fin.shape)\n",
    "print('y_test shape', y_test_fin.shape)"
   ]
  },
  {
   "cell_type": "markdown",
   "metadata": {},
   "source": [
    "###### I want to see the new accuracy score without all of the features I dropped."
   ]
  },
  {
   "cell_type": "code",
   "execution_count": null,
   "metadata": {},
   "outputs": [],
   "source": [
    "from sklearn.impute import SimpleImputer\n",
    "from sklearn.pipeline import make_pipeline\n",
    "from xgboost import XGBClassifier\n",
    "import category_encoders as ce\n",
    "\n",
    "pipeline = make_pipeline(\n",
    "    ce.OrdinalEncoder(), \n",
    "    SimpleImputer(strategy='median'),\n",
    "    XGBClassifier(n_estimators=100, n_jobs=-1)\n",
    ")\n",
    "\n",
    "pipeline.fit(X_train_fin, y_train_fin)"
   ]
  },
  {
   "cell_type": "code",
   "execution_count": null,
   "metadata": {},
   "outputs": [],
   "source": [
    "from sklearn.metrics import accuracy_score\n",
    "y_pred = pipeline.predict(X_train_fin)\n",
    "\n",
    "print('Training Accuracy', accuracy_score(y_train_fin, y_pred))"
   ]
  },
  {
   "cell_type": "code",
   "execution_count": null,
   "metadata": {},
   "outputs": [],
   "source": [
    "y_pred = pipeline.predict(X_val_fin)\n",
    "\n",
    "print('Validation Accuracy', accuracy_score(y_val_fin, y_pred))"
   ]
  },
  {
   "cell_type": "markdown",
   "metadata": {},
   "source": [
    "### I lost about 4% on my test accuracy. This is significant, but I think it's worth it for the sake of having a simple, user frienly app."
   ]
  },
  {
   "cell_type": "code",
   "execution_count": null,
   "metadata": {},
   "outputs": [],
   "source": [
    "y_pred = pipeline.predict(X_test_fin)\n",
    "\n",
    "print('Test Accuracy', accuracy_score(y_test_fin, y_pred))"
   ]
  },
  {
   "cell_type": "markdown",
   "metadata": {},
   "source": [
    "### Now I'm going to start making graphs so show the relative affect of my features."
   ]
  },
  {
   "cell_type": "code",
   "execution_count": null,
   "metadata": {},
   "outputs": [],
   "source": [
    "processor = make_pipeline(\n",
    "    ce.OrdinalEncoder(), \n",
    "    SimpleImputer(strategy='median')\n",
    ")\n",
    "\n",
    "X_train_processed_fin = processor.fit_transform(X_train_fin)\n",
    "X_val_processed_fin = processor.transform(X_val_fin)\n",
    "\n",
    "model = XGBClassifier(n_estimators=100, random_state=42, n_jobs=-1)\n",
    "model.fit(X_train_processed_fin, y_train_fin)"
   ]
  },
  {
   "cell_type": "code",
   "execution_count": null,
   "metadata": {},
   "outputs": [],
   "source": [
    "row = X_val_fin.iloc[[10000]]\n",
    "row"
   ]
  },
  {
   "cell_type": "code",
   "execution_count": null,
   "metadata": {},
   "outputs": [],
   "source": [
    "import shap\n",
    "\n",
    "explainer = shap.TreeExplainer(model)\n",
    "row_processed = processor.transform(row)\n",
    "shap_values = explainer.shap_values(row_processed)\n",
    "\n",
    "shap.initjs()\n",
    "shap.force_plot(\n",
    "    base_value=explainer.expected_value, \n",
    "    shap_values=shap_values, \n",
    "    features=row\n",
    ")"
   ]
  },
  {
   "cell_type": "markdown",
   "metadata": {},
   "source": [
    "## Shaply Plot Above:\n",
    "###### This visualization shows how the features for this particular tennis match determines how my model predicts the outcome. The base value of .0009766 is  basically 0, which is what we would expect. That base value represents a 50/50 shot for either player. Given the amount of bpFaced and bpSaved of both players, and given who the players are themselves, my model predicts that the winner will be Player A."
   ]
  },
  {
   "cell_type": "code",
   "execution_count": null,
   "metadata": {},
   "outputs": [],
   "source": [
    "def predict(Player_A, Player_B, Player_A_bpFaced, Player_B_bpFaced, Player_A_bpSaved, Player_B_bpSaved):\n",
    "    df = pd.DataFrame(\n",
    "        columns = ['Player_A', 'Player_B', 'Player_A_bpFaced', \n",
    "             'Player_B_bpFaced','Player_A_bpSaved', 'Player_B_bpSaved'],\n",
    "        data=[[Player_A, Player_B, Player_A_bpFaced, Player_B_bpFaced, Player_A_bpSaved, Player_B_bpSaved]]\n",
    "    )\n",
    "    y_pred = pipeline.predict(df)[0]\n",
    "    return y_pred\n",
    "\n"
   ]
  },
  {
   "cell_type": "code",
   "execution_count": null,
   "metadata": {},
   "outputs": [],
   "source": [
    "predict ('Raphael Nadal','Roger Federer', 3, 2, 3, 3)"
   ]
  },
  {
   "cell_type": "markdown",
   "metadata": {},
   "source": [
    "###### This is a predict function I can use for hypothetical matches. Here I'm asking the model who it thinks would win between these two players with this number of bpFaced and bpSaved."
   ]
  },
  {
   "cell_type": "code",
   "execution_count": null,
   "metadata": {},
   "outputs": [],
   "source": [
    "import matplotlib.pyplot as plt\n",
    "plt.rcParams['figure.dpi'] = 150 "
   ]
  },
  {
   "cell_type": "code",
   "execution_count": null,
   "metadata": {},
   "outputs": [],
   "source": [
    "gb = make_pipeline(\n",
    "    ce.OrdinalEncoder(), \n",
    "    XGBClassifier(n_estimators=100, objective='reg:squarederror', n_jobs=-1)\n",
    ")\n",
    "\n",
    "gb.fit(X_train_fin, y_train_fin)\n",
    "y_pred = gb.predict(X_val_fin)"
   ]
  },
  {
   "cell_type": "markdown",
   "metadata": {},
   "source": [
    "### PDP for variable Player_A_bpFaced is really helpful in explaining how the feature interacts with my predictive model."
   ]
  },
  {
   "cell_type": "code",
   "execution_count": null,
   "metadata": {},
   "outputs": [],
   "source": [
    "from pdpbox.pdp import pdp_isolate, pdp_plot\n",
    "\n",
    "X_val_fin['Player_A_bpFaced'].fillna((X_val_fin['Player_A_bpFaced'].mean()), inplace=True)\n",
    "\n",
    "feature='Player_A_bpFaced'\n",
    "\n",
    "isolated = pdp_isolate(\n",
    "    model=gb,\n",
    "    dataset=X_val_fin,\n",
    "    model_features=X_val_fin.columns,\n",
    "    feature=feature\n",
    ")\n",
    "\n",
    "pdp_plot(isolated, feature_name=feature);"
   ]
  },
  {
   "cell_type": "markdown",
   "metadata": {},
   "source": [
    "### PDP for Player_B_bpFaced, but showing all observations along with the average (which is the bolder line)"
   ]
  },
  {
   "cell_type": "code",
   "execution_count": null,
   "metadata": {},
   "outputs": [],
   "source": [
    "X_val_fin['Player_B_bpFaced'].fillna((X_val_fin['Player_B_bpFaced'].mean()), inplace=True)\n",
    "\n",
    "feature='Player_B_bpFaced'\n",
    "\n",
    "isolated = pdp_isolate(\n",
    "    model=gb,\n",
    "    dataset=X_val_fin,\n",
    "    model_features=X_val_fin.columns,\n",
    "    feature=feature\n",
    ")\n",
    "\n",
    "\n",
    "pdp_plot(isolated, feature_name='Player_B_bpFaced', plot_lines=True, frac_to_plot=100) # Confusing parameter name\n",
    "plt.xlim();"
   ]
  },
  {
   "cell_type": "markdown",
   "metadata": {},
   "source": [
    "### Now a PDP for these two features, Player_A_bpFaced and Player_A_bpSaved. This is interesting because the two variables predict in the opposite direction of one another."
   ]
  },
  {
   "cell_type": "code",
   "execution_count": null,
   "metadata": {},
   "outputs": [],
   "source": [
    "from pdpbox.pdp import pdp_interact, pdp_interact_plot\n",
    "\n",
    "X_val_fin['Player_A_bpFaced'].fillna((X_val_fin['Player_A_bpFaced'].mean()), inplace=True)\n",
    "X_val_fin['Player_A_bpSaved'].fillna((X_val_fin['Player_A_bpSaved'].mean()), inplace=True)\n",
    "\n",
    "\n",
    "features= ['Player_A_bpFaced', 'Player_A_bpSaved']\n",
    "\n",
    "interaction = pdp_interact(\n",
    "    model=gb,\n",
    "    dataset=X_val_fin,\n",
    "    model_features=X_val_fin.columns,\n",
    "    features=features\n",
    "\n",
    ")\n",
    "\n",
    "pdp_interact_plot(interaction, plot_type='grid', feature_names=features);"
   ]
  },
  {
   "cell_type": "markdown",
   "metadata": {},
   "source": [
    "### Training a model to find the ROC AUC of my model. "
   ]
  },
  {
   "cell_type": "code",
   "execution_count": null,
   "metadata": {},
   "outputs": [],
   "source": [
    "import category_encoders as ce\n",
    "from sklearn.impute import SimpleImputer\n",
    "from sklearn.pipeline import make_pipeline\n",
    "from xgboost import XGBClassifier\n",
    "\n",
    "processor = make_pipeline(\n",
    "    ce.OrdinalEncoder(), \n",
    "    SimpleImputer(strategy='median')\n",
    ")\n",
    "\n",
    "X_train_processed_fin = processor.fit_transform(X_train_fin)\n",
    "X_val_processed_fin = processor.transform(X_val_fin)\n",
    "\n",
    "eval_set = [(X_train_processed_fin, y_train_fin), \n",
    "            (X_val_processed_fin, y_val_fin)]\n",
    "\n",
    "model = XGBClassifier(n_estimators=100, n_jobs=-1)\n",
    "model.fit(X_train_processed_fin, y_train_fin, eval_set=eval_set, eval_metric='auc', \n",
    "          early_stopping_rounds=50\n",
    "         )"
   ]
  },
  {
   "cell_type": "markdown",
   "metadata": {},
   "source": [
    "## Finds the versions of these libraries I need for my dash app:"
   ]
  },
  {
   "cell_type": "code",
   "execution_count": null,
   "metadata": {},
   "outputs": [],
   "source": [
    "import joblib\n",
    "import sklearn\n",
    "import category_encoders as ce\n",
    "import xgboost\n",
    "print(f'xgboost=={xgboost.__version__}')\n",
    "print(f'joblib=={joblib.__version__}')\n",
    "print(f'scikit-learn=={sklearn.__version__}')\n",
    "print(f'category_encoders=={ce.__version__}')"
   ]
  },
  {
   "cell_type": "markdown",
   "metadata": {},
   "source": [
    "## Importing my pipeline to my dash app:"
   ]
  },
  {
   "cell_type": "code",
   "execution_count": null,
   "metadata": {},
   "outputs": [],
   "source": [
    "from joblib import dump\n",
    "dump(pipeline, 'pipeline.joblib', compress=True)"
   ]
  }
 ],
 "metadata": {
  "kernelspec": {
   "display_name": "Python 3",
   "language": "python",
   "name": "python3"
  },
  "language_info": {
   "codemirror_mode": {
    "name": "ipython",
    "version": 3
   },
   "file_extension": ".py",
   "mimetype": "text/x-python",
   "name": "python",
   "nbconvert_exporter": "python",
   "pygments_lexer": "ipython3",
   "version": "3.7.6"
  }
 },
 "nbformat": 4,
 "nbformat_minor": 4
}
